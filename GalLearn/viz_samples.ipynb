{
 "cells": [
  {
   "cell_type": "markdown",
   "id": "1f66cee3-76f9-48ea-a65e-ada4550165af",
   "metadata": {},
   "source": [
    "# Visualize Samples Being Used\n",
    "Compare images at the analysis resolution to the full-res originals to ensure by visual inspection that we're not losing significant information."
   ]
  },
  {
   "cell_type": "code",
   "execution_count": 1,
   "id": "89ce2754-2221-4ce3-9e00-bf8da8687b60",
   "metadata": {},
   "outputs": [],
   "source": [
    "import numpy as np\n",
    "\n",
    "import preprocessing\n",
    "import h5py\n",
    "import os\n",
    "import torch\n",
    "import paths\n",
    "\n",
    "import matplotlib as mpl\n",
    "from matplotlib import pyplot as plt\n",
    "\n",
    "from importlib import reload"
   ]
  },
  {
   "cell_type": "code",
   "execution_count": 2,
   "id": "9e8a0377-e72f-48a6-baa8-11dd6298ab87",
   "metadata": {},
   "outputs": [],
   "source": [
    "dataset = 'gallearn_data_256x256_2d_tgt.h5'"
   ]
  },
  {
   "cell_type": "code",
   "execution_count": null,
   "id": "87db677e-bff9-400e-bf4b-d57628aeabe9",
   "metadata": {},
   "outputs": [],
   "source": [
    "d = preprocessing.load_data(dataset)\n",
    "X_orig = d['X']\n",
    "X = preprocessing.std_asinh(X_orig)\n",
    "ys = d['ys_sorted']\n",
    "fnames = d['file_names']\n",
    "obs_names = d['obs_sorted']"
   ]
  },
  {
   "cell_type": "code",
   "execution_count": null,
   "id": "d87c4ad8-d006-4409-85a2-fef9582fee06",
   "metadata": {},
   "outputs": [],
   "source": [
    "with h5py.File(os.path.join(paths.data, 'ellipses.h5')) as f:\n",
    "    X_ell = torch.FloatTensor(np.array(f['X'])).permute(3, 2, 0, 1)\n",
    "    ys_ell = torch.FloatTensor(np.array(f['ys_sorted'])).transpose(1, 0)"
   ]
  },
  {
   "cell_type": "code",
   "execution_count": null,
   "id": "a29e3602-0535-47b5-b2e3-aa17a65f2690",
   "metadata": {},
   "outputs": [],
   "source": [
    "direc = (\n",
    "    \"/DFS-L/DATA/cosmo/kleinca/FIREBox_Images/host/\"                   \n",
    "    \"ugrband_massmocks_final\"\n",
    ")\n",
    "allfiles = np.array(\n",
    "    [f \n",
    "     for f in os.listdir(direc) \n",
    "     if os.path.isfile(os.path.join(direc, f))]\n",
    ")\n",
    "\n",
    "masks = np.array(\n",
    "    [[obj_name + '_' in file for file in allfiles] for obj_name in obs_names]\n",
    ")\n",
    "fnames = np.array([allfiles[mask] for mask in masks])\n",
    "if fnames.shape != (X.shape[0], 1):\n",
    "    raise Exception('Duplicate files were matched to a single object name.')\n",
    "fnames = fnames.flatten()"
   ]
  },
  {
   "cell_type": "markdown",
   "id": "84c6095e-e05d-47b5-ab31-b8b92fe99b3f",
   "metadata": {},
   "source": [
    "# Ellipses"
   ]
  },
  {
   "cell_type": "code",
   "execution_count": null,
   "id": "0415a431-db3a-4664-a3d4-a969ca1acf1b",
   "metadata": {},
   "outputs": [],
   "source": [
    "Nsubplots = 3 * 4\n",
    "indices = np.random.randint(0, X_ell.shape[0], Nsubplots)\n",
    "example_data = X_ell[indices]\n",
    "example_targets = ys_ell[indices]\n",
    "\n",
    "fig = plt.figure(figsize=(15, 20 * 3 / 5))\n",
    "fig.subplots_adjust(hspace=0.05, wspace=0.05)\n",
    "\n",
    "for i in range(Nsubplots):\n",
    "    ax = fig.add_subplot(3, 4, i+1)\n",
    "    ax.imshow(\n",
    "        example_data[i][0], \n",
    "        cmap='gray', \n",
    "        interpolation='none',\n",
    "    )\n",
    "    tgt_str = \"{0:0.2f}\"\n",
    "    ax.set_title(tgt_str.format(\n",
    "        *example_targets[i]\n",
    "    ))\n",
    "    ax.set_xticks([])\n",
    "    ax.set_yticks([])\n",
    "    ax.set_facecolor('k')\n",
    "plt.show()"
   ]
  },
  {
   "cell_type": "markdown",
   "id": "b47f4a46-8088-495d-9ea8-54669d33eb2d",
   "metadata": {},
   "source": [
    "## Analysis Resolution"
   ]
  },
  {
   "cell_type": "code",
   "execution_count": null,
   "id": "3a002a32-4b9e-426f-8aad-ce7be76f64b4",
   "metadata": {},
   "outputs": [],
   "source": [
    "indices = np.random.randint(0, X.shape[0], Nsubplots)"
   ]
  },
  {
   "cell_type": "markdown",
   "id": "2211a2fc-6025-46a3-9c57-8fe46648c2fe",
   "metadata": {},
   "source": [
    "### Default asinh stretch"
   ]
  },
  {
   "cell_type": "code",
   "execution_count": null,
   "id": "554c528d-2ad1-447b-ad30-f042dcda0f9a",
   "metadata": {},
   "outputs": [],
   "source": [
    "Nsubplots = 3 * 4\n",
    "example_data = X[indices]\n",
    "example_targets = ys[indices]\n",
    "\n",
    "fig = plt.figure(figsize=(15, 20 * 3 / 5))\n",
    "fig.subplots_adjust(hspace=0.05, wspace=0.05)\n",
    "\n",
    "for i in range(Nsubplots):\n",
    "    ax = fig.add_subplot(3, 4, i+1)\n",
    "    ax.imshow(\n",
    "        example_data[i][0], \n",
    "        cmap='gray', \n",
    "        interpolation='none',\n",
    "        #norm=mpl.colors.LogNorm(vmin=5.e5, vmax=1.e8)\n",
    "    )\n",
    "    if '2d_tgt' in dataset:\n",
    "        tgt_str = \"{0}: {1:0.2f}\"\n",
    "    else:\n",
    "        tgt_str = \"{1:0.2f}, {2:0.2f}\"\n",
    "    ax.set_title(tgt_str.format(\n",
    "        obs_names[indices][i],\n",
    "        *example_targets[i]\n",
    "    ))\n",
    "    ax.set_xticks([])\n",
    "    ax.set_yticks([])\n",
    "    ax.set_facecolor('k')\n",
    "plt.suptitle('asinh scaled and standardized', y=0.92, fontsize=16)\n",
    "plt.show()"
   ]
  },
  {
   "cell_type": "markdown",
   "id": "3081668f-97f8-4d33-8af8-d2e9d8a557a2",
   "metadata": {},
   "source": [
    "### Experimenting with different stretch"
   ]
  },
  {
   "cell_type": "code",
   "execution_count": null,
   "id": "c579493b-e527-40fa-aee2-65d9e3274da3",
   "metadata": {},
   "outputs": [],
   "source": [
    "from importlib import reload\n",
    "reload(preprocessing)"
   ]
  },
  {
   "cell_type": "code",
   "execution_count": null,
   "id": "aec201ef-50eb-44e6-b789-7b72f039b6f4",
   "metadata": {},
   "outputs": [],
   "source": [
    "Nsubplots = 3 * 4\n",
    "stretch = 1.e-6\n",
    "example_data = preprocessing.std_asinh(X_orig, stretch)[indices]\n",
    "example_targets = ys[indices]\n",
    "\n",
    "fig = plt.figure(figsize=(15, 20 * 3 / 5))\n",
    "fig.subplots_adjust(hspace=0.05, wspace=0.05)\n",
    "\n",
    "for i in range(Nsubplots):\n",
    "    ax = fig.add_subplot(3, 4, i+1)\n",
    "    ax.imshow(\n",
    "        example_data[i][0], \n",
    "        cmap='gray', \n",
    "        interpolation='none',\n",
    "        #norm=mpl.colors.LogNorm(vmin=5.e5, vmax=1.e8)\n",
    "    )\n",
    "    if '2d_tgt' in dataset:\n",
    "        tgt_str = \"{0}: {1:0.2f}\"\n",
    "    else:\n",
    "        tgt_str = \"{1:0.2f}, {2:0.2f}\"\n",
    "    ax.set_title(tgt_str.format(\n",
    "        obs_names[indices][i],\n",
    "        *example_targets[i]\n",
    "    ))\n",
    "    ax.set_xticks([])\n",
    "    ax.set_yticks([])\n",
    "    ax.set_facecolor('k')\n",
    "plt.suptitle('asinh scaled and standardized', y=0.92, fontsize=16)\n",
    "plt.show()"
   ]
  },
  {
   "cell_type": "markdown",
   "id": "2587ba5c-2d93-43c3-96d8-2d0d4e36cdae",
   "metadata": {},
   "source": [
    "### No preprocessing, log scaled image"
   ]
  },
  {
   "cell_type": "code",
   "execution_count": null,
   "id": "0201612f-b5d5-49e7-b6f7-ac82f4560551",
   "metadata": {},
   "outputs": [],
   "source": [
    "Nsubplots = 3 * 4\n",
    "example_data = X_orig[indices]\n",
    "example_targets = ys[indices]\n",
    "\n",
    "fig = plt.figure(figsize=(15, 20 * 3 / 5))\n",
    "fig.subplots_adjust(hspace=0.05, wspace=0.05)\n",
    "\n",
    "for i in range(Nsubplots):\n",
    "    ax = fig.add_subplot(3, 4, i+1)\n",
    "    ax.imshow(\n",
    "        example_data[i][0], \n",
    "        cmap='gray', \n",
    "        interpolation='none',\n",
    "        norm=mpl.colors.LogNorm(vmin=5.e5, vmax=1.e8)\n",
    "    )\n",
    "    if '2d_tgt' in dataset:\n",
    "        tgt_str = \"{0}: {1:0.2f}\"\n",
    "    else:\n",
    "        tgt_str = \"{1:0.2f}, {2:0.2f}\"\n",
    "    ax.set_title(tgt_str.format(\n",
    "        obs_names[indices][i],\n",
    "        *example_targets[i]\n",
    "    ))\n",
    "    ax.set_xticks([])\n",
    "    ax.set_yticks([])\n",
    "    ax.set_facecolor('k')\n",
    "plt.suptitle(\n",
    "    'Normalized in mpl with `norm=mpl.colors.LogNorm(vmin=5.e5, vmax=1.e8)`',\n",
    "    y=0.92,\n",
    "    fontsize=16\n",
    ")\n",
    "plt.show()"
   ]
  },
  {
   "cell_type": "markdown",
   "id": "7cbea603-5595-4ec2-ac56-8f08233ef796",
   "metadata": {},
   "source": [
    "## Original Resolution"
   ]
  },
  {
   "cell_type": "code",
   "execution_count": null,
   "id": "4a910b9a-a442-4a9f-8439-babb42a6f343",
   "metadata": {},
   "outputs": [],
   "source": [
    "fig = plt.figure(figsize=(15, 20 * 3 / 5))\n",
    "fig.subplots_adjust(hspace=0.05, wspace=0.05)\n",
    "\n",
    "for i in range(Nsubplots):\n",
    "    with h5py.File(os.path.join(direc, fnames[indices[i]]), 'r') as f:\n",
    "        image = torch.FloatTensor(np.array(f['projection_xy']['band_g']))\n",
    "    \n",
    "    ax = fig.add_subplot(3, 4, i+1)\n",
    "    ax.imshow(\n",
    "        image, \n",
    "        cmap='gray', \n",
    "        interpolation='none',\n",
    "        norm=mpl.colors.LogNorm(vmin=5.e5, vmax=1.e8)\n",
    "    )\n",
    "    if '2d_tgt' in dataset:\n",
    "        title_str = \"{0:0.2f} ({1:0.0f}x{2:0.0f})\"\n",
    "    else:\n",
    "        title_str = \"{0:0.2f}, {1:0.2f} ({2:0.0f}x{3:0.0f})\"\n",
    "    ax.set_title(title_str.format(\n",
    "        *example_targets[i],\n",
    "        *image.shape\n",
    "    ))\n",
    "    ax.set_xticks([])\n",
    "    ax.set_yticks([])\n",
    "    ax.set_facecolor('k')\n",
    "plt.suptitle(\n",
    "    'Normalized in mpl with `norm=mpl.colors.LogNorm(vmin=5.e5, vmax=1.e8)`',\n",
    "    y=0.92,\n",
    "    fontsize=16\n",
    ")\n",
    "plt.show()"
   ]
  }
 ],
 "metadata": {
  "kernelspec": {
   "display_name": "Python 3 (ipykernel)",
   "language": "python",
   "name": "python3"
  },
  "language_info": {
   "codemirror_mode": {
    "name": "ipython",
    "version": 3
   },
   "file_extension": ".py",
   "mimetype": "text/x-python",
   "name": "python",
   "nbconvert_exporter": "python",
   "pygments_lexer": "ipython3",
   "version": "3.10.15"
  }
 },
 "nbformat": 4,
 "nbformat_minor": 5
}
